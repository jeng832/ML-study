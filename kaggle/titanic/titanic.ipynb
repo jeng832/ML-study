{
  "nbformat": 4,
  "nbformat_minor": 0,
  "metadata": {
    "colab": {
      "name": "Untitled0.ipynb",
      "version": "0.3.2",
      "provenance": [],
      "include_colab_link": true
    },
    "kernelspec": {
      "name": "python3",
      "display_name": "Python 3"
    }
  },
  "cells": [
    {
      "cell_type": "markdown",
      "metadata": {
        "id": "view-in-github",
        "colab_type": "text"
      },
      "source": [
        "<a href=\"https://colab.research.google.com/github/jeng832/ML-study/blob/master/kaggle/titanic/titanic.ipynb\" target=\"_parent\"><img src=\"https://colab.research.google.com/assets/colab-badge.svg\" alt=\"Open In Colab\"/></a>"
      ]
    },
    {
      "cell_type": "code",
      "metadata": {
        "id": "Jn-9np04FcGo",
        "colab_type": "code",
        "colab": {}
      },
      "source": [
        "import csv, os\n",
        "import torch\n",
        "import pandas as pd\n",
        "from torch.utils.data import DataLoader\n",
        "import numpy as np"
      ],
      "execution_count": 0,
      "outputs": []
    },
    {
      "cell_type": "code",
      "metadata": {
        "id": "_I1O-n8eFgTH",
        "colab_type": "code",
        "colab": {}
      },
      "source": [
        "train_set = []\n",
        "filepath = os.getcwd()\n",
        "\n",
        "train_dataframe = pd.read_csv(filepath + \"/data/train.csv\")\n",
        "#train_tensor = torch.tensor(train_dataframe.values)\n",
        "train_dataframe.info(verbose=True)\n",
        "cat = train_dataframe[['PassengerId', 'Sex', 'Pclass', 'Age', 'SibSp', 'Parch', 'Fare']]\n",
        "\n",
        "cat_gender = pd.concat([cat, pd.get_dummies(train_dataframe.Sex)], axis=1)\n",
        "cat_cabin = pd.concat([cat_gender, pd.get_dummies(train_dataframe.Cabin)], axis=1)\n",
        "train_df = pd.concat([cat_cabin, pd.get_dummies(train_dataframe.Cabin)], axis=1)\n",
        "\n",
        "label_df = train_dataframe['Survived']\n",
        "#print(pd.get_dummies(train_dataframe.Sex))\n",
        "train_df.info()\n",
        "print(label_df)\n",
        "\n",
        "#with open(filepath + \"/data/train.csv\", \"r\") as f:\n",
        "#    data = csv.reader(f)\n",
        "#    for row in data:\n",
        "#        print(row)\n",
        "        #train_set.append([float])"
      ],
      "execution_count": 0,
      "outputs": []
    }
  ]
}